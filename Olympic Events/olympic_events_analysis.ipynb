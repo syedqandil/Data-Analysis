{
 "cells": [
  {
   "cell_type": "markdown",
   "metadata": {},
   "source": [
    "# OLYMPIC EVENTS DATA ANALYSIS & VISUALIZATIONS"
   ]
  },
  {
   "cell_type": "markdown",
   "metadata": {},
   "source": [
    "---------------"
   ]
  },
  {
   "cell_type": "markdown",
   "metadata": {},
   "source": [
    "<b>LOADING DATASET</b>"
   ]
  },
  {
   "cell_type": "code",
   "execution_count": 1,
   "metadata": {},
   "outputs": [],
   "source": [
    "import numpy as np\n",
    "import pandas as pd\n",
    "import seaborn as sns\n",
    "import matplotlib.pyplot as plt"
   ]
  },
  {
   "cell_type": "code",
   "execution_count": 2,
   "metadata": {},
   "outputs": [
    {
     "data": {
      "text/html": [
       "<div>\n",
       "<style scoped>\n",
       "    .dataframe tbody tr th:only-of-type {\n",
       "        vertical-align: middle;\n",
       "    }\n",
       "\n",
       "    .dataframe tbody tr th {\n",
       "        vertical-align: top;\n",
       "    }\n",
       "\n",
       "    .dataframe thead th {\n",
       "        text-align: right;\n",
       "    }\n",
       "</style>\n",
       "<table border=\"1\" class=\"dataframe\">\n",
       "  <thead>\n",
       "    <tr style=\"text-align: right;\">\n",
       "      <th></th>\n",
       "      <th>id</th>\n",
       "      <th>sport</th>\n",
       "      <th>discipline</th>\n",
       "      <th>name</th>\n",
       "      <th>sex</th>\n",
       "      <th>venues</th>\n",
       "    </tr>\n",
       "  </thead>\n",
       "  <tbody>\n",
       "    <tr>\n",
       "      <th>0</th>\n",
       "      <td>701492</td>\n",
       "      <td>aquatics</td>\n",
       "      <td>backstroke</td>\n",
       "      <td>Women's 100m Backstroke</td>\n",
       "      <td>female</td>\n",
       "      <td>Olympic Aquatics Stadium</td>\n",
       "    </tr>\n",
       "    <tr>\n",
       "      <th>1</th>\n",
       "      <td>305278</td>\n",
       "      <td>aquatics</td>\n",
       "      <td>backstroke</td>\n",
       "      <td>Women's 200m Backstroke</td>\n",
       "      <td>female</td>\n",
       "      <td>Olympic Aquatics Stadium</td>\n",
       "    </tr>\n",
       "    <tr>\n",
       "      <th>2</th>\n",
       "      <td>708010</td>\n",
       "      <td>aquatics</td>\n",
       "      <td>backstroke</td>\n",
       "      <td>Men's 100m Backstroke</td>\n",
       "      <td>male</td>\n",
       "      <td>Olympic Aquatics Stadium</td>\n",
       "    </tr>\n",
       "    <tr>\n",
       "      <th>3</th>\n",
       "      <td>729643</td>\n",
       "      <td>aquatics</td>\n",
       "      <td>backstroke</td>\n",
       "      <td>Men's 200m Backstroke</td>\n",
       "      <td>male</td>\n",
       "      <td>Olympic Aquatics Stadium</td>\n",
       "    </tr>\n",
       "    <tr>\n",
       "      <th>4</th>\n",
       "      <td>567019</td>\n",
       "      <td>aquatics</td>\n",
       "      <td>breaststroke</td>\n",
       "      <td>Women's 100m Breaststroke</td>\n",
       "      <td>female</td>\n",
       "      <td>Olympic Aquatics Stadium</td>\n",
       "    </tr>\n",
       "  </tbody>\n",
       "</table>\n",
       "</div>"
      ],
      "text/plain": [
       "       id     sport    discipline                       name     sex  \\\n",
       "0  701492  aquatics    backstroke    Women's 100m Backstroke  female   \n",
       "1  305278  aquatics    backstroke    Women's 200m Backstroke  female   \n",
       "2  708010  aquatics    backstroke      Men's 100m Backstroke    male   \n",
       "3  729643  aquatics    backstroke      Men's 200m Backstroke    male   \n",
       "4  567019  aquatics  breaststroke  Women's 100m Breaststroke  female   \n",
       "\n",
       "                     venues  \n",
       "0  Olympic Aquatics Stadium  \n",
       "1  Olympic Aquatics Stadium  \n",
       "2  Olympic Aquatics Stadium  \n",
       "3  Olympic Aquatics Stadium  \n",
       "4  Olympic Aquatics Stadium  "
      ]
     },
     "execution_count": 2,
     "metadata": {},
     "output_type": "execute_result"
    }
   ],
   "source": [
    "data = pd.read_csv(\"olympic_events.csv\", encoding=\"ISO-8859-1\")\n",
    "data.head()"
   ]
  },
  {
   "cell_type": "code",
   "execution_count": 3,
   "metadata": {},
   "outputs": [
    {
     "name": "stdout",
     "output_type": "stream",
     "text": [
      "<class 'pandas.core.frame.DataFrame'>\n",
      "RangeIndex: 306 entries, 0 to 305\n",
      "Data columns (total 6 columns):\n",
      "id            306 non-null int64\n",
      "sport         306 non-null object\n",
      "discipline    306 non-null object\n",
      "name          306 non-null object\n",
      "sex           306 non-null object\n",
      "venues        306 non-null object\n",
      "dtypes: int64(1), object(5)\n",
      "memory usage: 14.4+ KB\n"
     ]
    }
   ],
   "source": [
    "data.info()"
   ]
  },
  {
   "cell_type": "code",
   "execution_count": 4,
   "metadata": {},
   "outputs": [
    {
     "data": {
      "text/plain": [
       "id            0\n",
       "sport         0\n",
       "discipline    0\n",
       "name          0\n",
       "sex           0\n",
       "venues        0\n",
       "dtype: int64"
      ]
     },
     "execution_count": 4,
     "metadata": {},
     "output_type": "execute_result"
    }
   ],
   "source": [
    "data.isna().sum()"
   ]
  },
  {
   "cell_type": "code",
   "execution_count": 5,
   "metadata": {},
   "outputs": [
    {
     "data": {
      "text/plain": [
       "306"
      ]
     },
     "execution_count": 5,
     "metadata": {},
     "output_type": "execute_result"
    }
   ],
   "source": [
    "data[\"id\"].unique().size"
   ]
  },
  {
   "cell_type": "markdown",
   "metadata": {},
   "source": [
    "----------"
   ]
  },
  {
   "cell_type": "markdown",
   "metadata": {},
   "source": [
    "<b>ANALYZING ATTRIBUTES</b>"
   ]
  },
  {
   "cell_type": "markdown",
   "metadata": {},
   "source": [
    "<b>Gender / Sex</b>"
   ]
  },
  {
   "cell_type": "code",
   "execution_count": 6,
   "metadata": {},
   "outputs": [
    {
     "data": {
      "text/plain": [
       "male      161\n",
       "female    136\n",
       "mixed       9\n",
       "Name: sex, dtype: int64"
      ]
     },
     "execution_count": 6,
     "metadata": {},
     "output_type": "execute_result"
    }
   ],
   "source": [
    "# COUNTS\n",
    "data[\"sex\"].value_counts()"
   ]
  },
  {
   "cell_type": "code",
   "execution_count": 7,
   "metadata": {},
   "outputs": [
    {
     "data": {
      "image/png": "[encoded data removed]",
      "text/plain": [
       "<Figure size 936x432 with 2 Axes>"
      ]
     },
     "metadata": {
      "needs_background": "light"
     },
     "output_type": "display_data"
    }
   ],
   "source": [
    "# GENDER / SEX VISUALS\n",
    "\n",
    "fig = plt.figure(figsize=(13,6))\n",
    "\n",
    "fig.add_subplot(1,2,1)\n",
    "plt.pie(data[\"sex\"].value_counts(), autopct=\"%1.2f%%\", labels=data[\"sex\"].value_counts().index, startangle=180)\n",
    "plt.title(\"GENDER COUNT PIE CHART\")\n",
    "\n",
    "fig.add_subplot(1,2,2)\n",
    "sns.countplot(data[\"sex\"])\n",
    "plt.title(\"GENDER COUNT BAR CHART\")\n",
    "\n",
    "plt.show()"
   ]
  },
  {
   "cell_type": "markdown",
   "metadata": {},
   "source": [
    "<b>Conclusions:</b>\n",
    "The highest occurence is of the male gender in the olympics event i.e. 52.6%, while female genders are 44.4%. There is also a mixed gender (paired participation) which seems to be only approximately 3%."
   ]
  },
  {
   "cell_type": "markdown",
   "metadata": {},
   "source": [
    " "
   ]
  },
  {
   "cell_type": "markdown",
   "metadata": {},
   "source": [
    "<b>Sport</b>"
   ]
  },
  {
   "cell_type": "code",
   "execution_count": 8,
   "metadata": {},
   "outputs": [
    {
     "data": {
      "text/plain": [
       "athletics            47\n",
       "aquatics             46\n",
       "cycling              18\n",
       "wrestling            18\n",
       "gymnastics           18\n",
       "canoe                16\n",
       "shooting             15\n",
       "weightlifting        15\n",
       "judo                 14\n",
       "rowing               14\n",
       "boxing               13\n",
       "fencing              10\n",
       "sailing              10\n",
       "taekwondo             8\n",
       "equestrian            6\n",
       "badminton             5\n",
       "tennis                5\n",
       "table tennis          4\n",
       "archery               4\n",
       "volleyball            4\n",
       "basketball            2\n",
       "hockey                2\n",
       "golf                  2\n",
       "handball              2\n",
       "triathlon             2\n",
       "rugby sevens          2\n",
       "football              2\n",
       "modern pentathlon     2\n",
       "Name: sport, dtype: int64"
      ]
     },
     "execution_count": 8,
     "metadata": {},
     "output_type": "execute_result"
    }
   ],
   "source": [
    "# COUNTS\n",
    "data[\"sport\"].value_counts()"
   ]
  },
  {
   "cell_type": "code",
   "execution_count": 9,
   "metadata": {},
   "outputs": [
    {
     "data": {
      "image/png": "[encoded data removed]",
      "text/plain": [
       "<Figure size 936x720 with 1 Axes>"
      ]
     },
     "metadata": {
      "needs_background": "light"
     },
     "output_type": "display_data"
    }
   ],
   "source": [
    "plt.figure(figsize=(13,10))\n",
    "\n",
    "sns.countplot(y = data[\"sport\"], orient=\"v\", color=\"lightblue\")\n",
    "plt.title(\"SPORT COUNT BAR CHART\")\n",
    "\n",
    "plt.show()"
   ]
  },
  {
   "cell_type": "markdown",
   "metadata": {},
   "source": [
    "<b>Conclusions:</b>\n",
    "Athletics came up with the highest occurence in our dataset (47 counts), while basketball, football, golf, hockey, handball, m.pentathlon, rugby, and triathlon have the least count (only 1). "
   ]
  },
  {
   "cell_type": "markdown",
   "metadata": {},
   "source": [
    "  "
   ]
  },
  {
   "cell_type": "markdown",
   "metadata": {},
   "source": [
    "<b>Discipline</b>"
   ]
  },
  {
   "cell_type": "code",
   "execution_count": 10,
   "metadata": {},
   "outputs": [
    {
     "data": {
      "text/plain": [
       "freestyle                26\n",
       "track                    24\n",
       "weightlifting            15\n",
       "shooting                 15\n",
       "rowing                   14\n",
       "artistic gymnastics      14\n",
       "judo                     14\n",
       "boxing                   13\n",
       "canoe sprint             12\n",
       "cycling track            10\n",
       "sailing                  10\n",
       "jumps                     8\n",
       "taekwondo                 8\n",
       "diving                    8\n",
       "throws                    8\n",
       "medley                    6\n",
       "greco roman               6\n",
       "individual                6\n",
       "badminton                 5\n",
       "tennis                    5\n",
       "road                      5\n",
       "breaststroke              4\n",
       "butterfly                 4\n",
       "table tennis              4\n",
       "archery                   4\n",
       "team                      4\n",
       "backstroke                4\n",
       "canoe slalom              4\n",
       "cycling road              4\n",
       "basketball                2\n",
       "cycling mountain bike     2\n",
       "football                  2\n",
       "hockey                    2\n",
       "marathon swimming         2\n",
       "dressage                  2\n",
       "golf                      2\n",
       "volleyball                2\n",
       "beach volleyball          2\n",
       "combined                  2\n",
       "cycling bmx               2\n",
       "synchronised swimming     2\n",
       "handball                  2\n",
       "modern pentathlon         2\n",
       "jumping                   2\n",
       "triathlon                 2\n",
       "rugby sevens              2\n",
       "trampoline gymnastics     2\n",
       "water polo                2\n",
       "eventing                  2\n",
       "rhythmic gymnastics       2\n",
       "Name: discipline, dtype: int64"
      ]
     },
     "execution_count": 10,
     "metadata": {},
     "output_type": "execute_result"
    }
   ],
   "source": [
    "# COUNTS\n",
    "data[\"discipline\"].value_counts()"
   ]
  },
  {
   "cell_type": "code",
   "execution_count": 11,
   "metadata": {},
   "outputs": [
    {
     "data": {
      "image/png": "[encoded data removed]",
      "text/plain": [
       "<Figure size 864x864 with 1 Axes>"
      ]
     },
     "metadata": {
      "needs_background": "light"
     },
     "output_type": "display_data"
    }
   ],
   "source": [
    "plt.figure(figsize=(12,12))\n",
    "sns.countplot(y=data[\"discipline\"], color=\"lightgreen\")\n",
    "plt.title(\"DISCIPLINE COUNT BAR CHART\")\n",
    "\n",
    "plt.show()"
   ]
  },
  {
   "cell_type": "markdown",
   "metadata": {},
   "source": [
    "<b>Conclusion:</b>\n",
    "In the Discipline attribute, there is the most occurence of \"freestyle\" (appeared 26 times @ 8.50%). "
   ]
  },
  {
   "cell_type": "markdown",
   "metadata": {},
   "source": [
    " "
   ]
  },
  {
   "cell_type": "markdown",
   "metadata": {},
   "source": [
    "<b>Venues</b>"
   ]
  },
  {
   "cell_type": "code",
   "execution_count": 12,
   "metadata": {},
   "outputs": [
    {
     "data": {
      "text/plain": [
       "Olympic Stadium                 42\n",
       "Carioca Arena 2                 32\n",
       "Olympic Aquatics Stadium        32\n",
       "Lagoa Stadium                   26\n",
       "Carioca Arena 3                 18\n",
       "Rio Olympic Arena               18\n",
       "Riocentro - Pavilion 2          15\n",
       "Olympic Shooting Centre         15\n",
       "Riocentro - Pavilion 6          13\n",
       "Maria Lenk Aquatics Centre      12\n",
       "Marina da GlÌ_ria               10\n",
       "Rio Olympic Velodrome           10\n",
       "Fort Copacabana                  6\n",
       "Olympic Equestrian Centre        6\n",
       "SambÌ_dromo                      6\n",
       "Olympic Tennis Centre            5\n",
       "Riocentro - Pavilion 4           5\n",
       "Pontal                           5\n",
       "Riocentro - Pavilion 3           4\n",
       "Whitewater Stadium               4\n",
       "Deodoro Stadium                  2\n",
       "Olympic Golf Course              2\n",
       "Olympic BMX Centre               2\n",
       "Deodoro Aquatics Centre          2\n",
       "MaracanÌ£zinho                   2\n",
       "Olympic Hockey Centre            2\n",
       "Mountain Bike Centre             2\n",
       "Future Arena                     2\n",
       "Garrincha Stadium, MaracanÌ£     2\n",
       "Beach Volleyball Arena           2\n",
       "Carioca Arena 1                  1\n",
       "Carioca Arena 1, Youth Arena     1\n",
       "Name: venues, dtype: int64"
      ]
     },
     "execution_count": 12,
     "metadata": {},
     "output_type": "execute_result"
    }
   ],
   "source": [
    "data[\"venues\"].value_counts()"
   ]
  },
  {
   "cell_type": "code",
   "execution_count": 13,
   "metadata": {},
   "outputs": [
    {
     "data": {
      "image/png": "[encoded data removed]",
      "text/plain": [
       "<Figure size 864x1080 with 1 Axes>"
      ]
     },
     "metadata": {
      "needs_background": "light"
     },
     "output_type": "display_data"
    }
   ],
   "source": [
    "plt.figure(figsize=(12,15))\n",
    "sns.countplot(y=data[\"venues\"], color=\"lightblue\")\n",
    "plt.title(\"VENUES COUNT BAR CHART\")\n",
    "\n",
    "plt.show()"
   ]
  },
  {
   "cell_type": "markdown",
   "metadata": {},
   "source": [
    "<b>Conclusion:</b>\n",
    "The \"Olympics Staduim\" has the highest occurence in the dataset appearing 46 times whereas the venue least appeared is \"Caroica Arena\"."
   ]
  },
  {
   "cell_type": "markdown",
   "metadata": {},
   "source": [
    "--------------------"
   ]
  },
  {
   "cell_type": "markdown",
   "metadata": {},
   "source": [
    "<b>MALES AND THEIR SPORT</b>"
   ]
  },
  {
   "cell_type": "code",
   "execution_count": 14,
   "metadata": {},
   "outputs": [
    {
     "data": {
      "text/html": [
       "<div>\n",
       "<style scoped>\n",
       "    .dataframe tbody tr th:only-of-type {\n",
       "        vertical-align: middle;\n",
       "    }\n",
       "\n",
       "    .dataframe tbody tr th {\n",
       "        vertical-align: top;\n",
       "    }\n",
       "\n",
       "    .dataframe thead th {\n",
       "        text-align: right;\n",
       "    }\n",
       "</style>\n",
       "<table border=\"1\" class=\"dataframe\">\n",
       "  <thead>\n",
       "    <tr style=\"text-align: right;\">\n",
       "      <th></th>\n",
       "      <th>index</th>\n",
       "      <th>id</th>\n",
       "      <th>sport</th>\n",
       "      <th>discipline</th>\n",
       "      <th>name</th>\n",
       "      <th>sex</th>\n",
       "      <th>venues</th>\n",
       "    </tr>\n",
       "  </thead>\n",
       "  <tbody>\n",
       "    <tr>\n",
       "      <th>0</th>\n",
       "      <td>2</td>\n",
       "      <td>708010</td>\n",
       "      <td>aquatics</td>\n",
       "      <td>backstroke</td>\n",
       "      <td>Men's 100m Backstroke</td>\n",
       "      <td>male</td>\n",
       "      <td>Olympic Aquatics Stadium</td>\n",
       "    </tr>\n",
       "    <tr>\n",
       "      <th>1</th>\n",
       "      <td>3</td>\n",
       "      <td>729643</td>\n",
       "      <td>aquatics</td>\n",
       "      <td>backstroke</td>\n",
       "      <td>Men's 200m Backstroke</td>\n",
       "      <td>male</td>\n",
       "      <td>Olympic Aquatics Stadium</td>\n",
       "    </tr>\n",
       "    <tr>\n",
       "      <th>2</th>\n",
       "      <td>6</td>\n",
       "      <td>519818</td>\n",
       "      <td>aquatics</td>\n",
       "      <td>breaststroke</td>\n",
       "      <td>Men's 100m Breaststroke</td>\n",
       "      <td>male</td>\n",
       "      <td>Olympic Aquatics Stadium</td>\n",
       "    </tr>\n",
       "    <tr>\n",
       "      <th>3</th>\n",
       "      <td>7</td>\n",
       "      <td>778941</td>\n",
       "      <td>aquatics</td>\n",
       "      <td>breaststroke</td>\n",
       "      <td>Men's 200m Breaststroke</td>\n",
       "      <td>male</td>\n",
       "      <td>Olympic Aquatics Stadium</td>\n",
       "    </tr>\n",
       "    <tr>\n",
       "      <th>4</th>\n",
       "      <td>10</td>\n",
       "      <td>649324</td>\n",
       "      <td>aquatics</td>\n",
       "      <td>butterfly</td>\n",
       "      <td>Men's 100m Butterfly</td>\n",
       "      <td>male</td>\n",
       "      <td>Olympic Aquatics Stadium</td>\n",
       "    </tr>\n",
       "  </tbody>\n",
       "</table>\n",
       "</div>"
      ],
      "text/plain": [
       "   index      id     sport    discipline                     name   sex  \\\n",
       "0      2  708010  aquatics    backstroke    Men's 100m Backstroke  male   \n",
       "1      3  729643  aquatics    backstroke    Men's 200m Backstroke  male   \n",
       "2      6  519818  aquatics  breaststroke  Men's 100m Breaststroke  male   \n",
       "3      7  778941  aquatics  breaststroke  Men's 200m Breaststroke  male   \n",
       "4     10  649324  aquatics     butterfly     Men's 100m Butterfly  male   \n",
       "\n",
       "                     venues  \n",
       "0  Olympic Aquatics Stadium  \n",
       "1  Olympic Aquatics Stadium  \n",
       "2  Olympic Aquatics Stadium  \n",
       "3  Olympic Aquatics Stadium  \n",
       "4  Olympic Aquatics Stadium  "
      ]
     },
     "execution_count": 14,
     "metadata": {},
     "output_type": "execute_result"
    }
   ],
   "source": [
    "m_data = data[data[\"sex\"]==\"male\"]\n",
    "m_data = m_data.reset_index()\n",
    "m_data.head()"
   ]
  },
  {
   "cell_type": "code",
   "execution_count": 15,
   "metadata": {},
   "outputs": [
    {
     "data": {
      "text/plain": [
       "athletics            24\n",
       "aquatics             22\n",
       "wrestling            12\n",
       "canoe                11\n",
       "boxing               10\n",
       "cycling               9\n",
       "shooting              9\n",
       "gymnastics            9\n",
       "weightlifting         8\n",
       "rowing                8\n",
       "judo                  7\n",
       "fencing               5\n",
       "sailing               5\n",
       "taekwondo             4\n",
       "volleyball            2\n",
       "tennis                2\n",
       "table tennis          2\n",
       "archery               2\n",
       "badminton             2\n",
       "basketball            1\n",
       "hockey                1\n",
       "handball              1\n",
       "triathlon             1\n",
       "golf                  1\n",
       "rugby sevens          1\n",
       "football              1\n",
       "modern pentathlon     1\n",
       "Name: sport, dtype: int64"
      ]
     },
     "execution_count": 15,
     "metadata": {},
     "output_type": "execute_result"
    }
   ],
   "source": [
    "m_data[\"sport\"].value_counts()"
   ]
  },
  {
   "cell_type": "code",
   "execution_count": 16,
   "metadata": {},
   "outputs": [
    {
     "data": {
      "image/png": "[encoded data removed]",
      "text/plain": [
       "<Figure size 864x1080 with 1 Axes>"
      ]
     },
     "metadata": {
      "needs_background": "light"
     },
     "output_type": "display_data"
    }
   ],
   "source": [
    "plt.figure(figsize=(12,15))\n",
    "sns.countplot(y=m_data[\"sport\"], color=\"bisque\")\n",
    "plt.title(\"MALES SPORT BAR CHART\")\n",
    "\n",
    "plt.show()"
   ]
  },
  {
   "cell_type": "markdown",
   "metadata": {},
   "source": [
    "<b>Conclusion:</b>\n",
    "24 of the Males are playing Athletics which is the highest count, whereas the lowest count of males is only 1 for sports i.e. hockey, football, handball, basketball, rugby, golf, m.pentathlon, and triathlon. "
   ]
  },
  {
   "cell_type": "markdown",
   "metadata": {},
   "source": [
    " "
   ]
  },
  {
   "cell_type": "markdown",
   "metadata": {},
   "source": [
    "<b>FEMALES AND THEIR SPORT</b>"
   ]
  },
  {
   "cell_type": "code",
   "execution_count": 17,
   "metadata": {},
   "outputs": [
    {
     "data": {
      "text/html": [
       "<div>\n",
       "<style scoped>\n",
       "    .dataframe tbody tr th:only-of-type {\n",
       "        vertical-align: middle;\n",
       "    }\n",
       "\n",
       "    .dataframe tbody tr th {\n",
       "        vertical-align: top;\n",
       "    }\n",
       "\n",
       "    .dataframe thead th {\n",
       "        text-align: right;\n",
       "    }\n",
       "</style>\n",
       "<table border=\"1\" class=\"dataframe\">\n",
       "  <thead>\n",
       "    <tr style=\"text-align: right;\">\n",
       "      <th></th>\n",
       "      <th>index</th>\n",
       "      <th>id</th>\n",
       "      <th>sport</th>\n",
       "      <th>discipline</th>\n",
       "      <th>name</th>\n",
       "      <th>sex</th>\n",
       "      <th>venues</th>\n",
       "    </tr>\n",
       "  </thead>\n",
       "  <tbody>\n",
       "    <tr>\n",
       "      <th>0</th>\n",
       "      <td>0</td>\n",
       "      <td>701492</td>\n",
       "      <td>aquatics</td>\n",
       "      <td>backstroke</td>\n",
       "      <td>Women's 100m Backstroke</td>\n",
       "      <td>female</td>\n",
       "      <td>Olympic Aquatics Stadium</td>\n",
       "    </tr>\n",
       "    <tr>\n",
       "      <th>1</th>\n",
       "      <td>1</td>\n",
       "      <td>305278</td>\n",
       "      <td>aquatics</td>\n",
       "      <td>backstroke</td>\n",
       "      <td>Women's 200m Backstroke</td>\n",
       "      <td>female</td>\n",
       "      <td>Olympic Aquatics Stadium</td>\n",
       "    </tr>\n",
       "    <tr>\n",
       "      <th>2</th>\n",
       "      <td>4</td>\n",
       "      <td>567019</td>\n",
       "      <td>aquatics</td>\n",
       "      <td>breaststroke</td>\n",
       "      <td>Women's 100m Breaststroke</td>\n",
       "      <td>female</td>\n",
       "      <td>Olympic Aquatics Stadium</td>\n",
       "    </tr>\n",
       "    <tr>\n",
       "      <th>3</th>\n",
       "      <td>5</td>\n",
       "      <td>607924</td>\n",
       "      <td>aquatics</td>\n",
       "      <td>breaststroke</td>\n",
       "      <td>Women's 200m Breaststroke</td>\n",
       "      <td>female</td>\n",
       "      <td>Olympic Aquatics Stadium</td>\n",
       "    </tr>\n",
       "    <tr>\n",
       "      <th>4</th>\n",
       "      <td>8</td>\n",
       "      <td>795006</td>\n",
       "      <td>aquatics</td>\n",
       "      <td>butterfly</td>\n",
       "      <td>Women's 100m Butterfly</td>\n",
       "      <td>female</td>\n",
       "      <td>Olympic Aquatics Stadium</td>\n",
       "    </tr>\n",
       "  </tbody>\n",
       "</table>\n",
       "</div>"
      ],
      "text/plain": [
       "   index      id     sport    discipline                       name     sex  \\\n",
       "0      0  701492  aquatics    backstroke    Women's 100m Backstroke  female   \n",
       "1      1  305278  aquatics    backstroke    Women's 200m Backstroke  female   \n",
       "2      4  567019  aquatics  breaststroke  Women's 100m Breaststroke  female   \n",
       "3      5  607924  aquatics  breaststroke  Women's 200m Breaststroke  female   \n",
       "4      8  795006  aquatics     butterfly     Women's 100m Butterfly  female   \n",
       "\n",
       "                     venues  \n",
       "0  Olympic Aquatics Stadium  \n",
       "1  Olympic Aquatics Stadium  \n",
       "2  Olympic Aquatics Stadium  \n",
       "3  Olympic Aquatics Stadium  \n",
       "4  Olympic Aquatics Stadium  "
      ]
     },
     "execution_count": 17,
     "metadata": {},
     "output_type": "execute_result"
    }
   ],
   "source": [
    "w_data = data[data[\"sex\"]==\"female\"]\n",
    "w_data = w_data.reset_index()\n",
    "w_data.head()"
   ]
  },
  {
   "cell_type": "code",
   "execution_count": 18,
   "metadata": {},
   "outputs": [
    {
     "data": {
      "text/plain": [
       "aquatics             24\n",
       "athletics            23\n",
       "cycling               9\n",
       "gymnastics            9\n",
       "judo                  7\n",
       "weightlifting         7\n",
       "shooting              6\n",
       "wrestling             6\n",
       "rowing                6\n",
       "canoe                 5\n",
       "fencing               5\n",
       "taekwondo             4\n",
       "sailing               4\n",
       "boxing                3\n",
       "volleyball            2\n",
       "tennis                2\n",
       "table tennis          2\n",
       "archery               2\n",
       "badminton             2\n",
       "basketball            1\n",
       "hockey                1\n",
       "handball              1\n",
       "triathlon             1\n",
       "golf                  1\n",
       "rugby sevens          1\n",
       "football              1\n",
       "modern pentathlon     1\n",
       "Name: sport, dtype: int64"
      ]
     },
     "execution_count": 18,
     "metadata": {},
     "output_type": "execute_result"
    }
   ],
   "source": [
    "w_data[\"sport\"].value_counts()"
   ]
  },
  {
   "cell_type": "code",
   "execution_count": 19,
   "metadata": {},
   "outputs": [
    {
     "data": {
      "image/png": "[encoded data removed]",
      "text/plain": [
       "<Figure size 864x1080 with 1 Axes>"
      ]
     },
     "metadata": {
      "needs_background": "light"
     },
     "output_type": "display_data"
    }
   ],
   "source": [
    "plt.figure(figsize=(12,15))\n",
    "sns.countplot(y=w_data[\"sport\"], color=\"plum\")\n",
    "plt.title(\"FEMALES SPORT BAR CHART\")\n",
    "\n",
    "plt.show()"
   ]
  },
  {
   "cell_type": "markdown",
   "metadata": {},
   "source": [
    "<b>Conclusion:</b>\n",
    "Most women are participating in the sports i.e. Aquatics and athletics."
   ]
  },
  {
   "cell_type": "markdown",
   "metadata": {},
   "source": [
    "-------------"
   ]
  },
  {
   "cell_type": "markdown",
   "metadata": {},
   "source": [
    "<b>MALE vs. FEMALE COMPARISONS IN ATTRIBUTE VALUES</b>"
   ]
  },
  {
   "cell_type": "markdown",
   "metadata": {},
   "source": [
    "<b>For Cycling (Sports)</b>"
   ]
  },
  {
   "cell_type": "code",
   "execution_count": 20,
   "metadata": {},
   "outputs": [
    {
     "data": {
      "text/html": [
       "<div>\n",
       "<style scoped>\n",
       "    .dataframe tbody tr th:only-of-type {\n",
       "        vertical-align: middle;\n",
       "    }\n",
       "\n",
       "    .dataframe tbody tr th {\n",
       "        vertical-align: top;\n",
       "    }\n",
       "\n",
       "    .dataframe thead th {\n",
       "        text-align: right;\n",
       "    }\n",
       "</style>\n",
       "<table border=\"1\" class=\"dataframe\">\n",
       "  <thead>\n",
       "    <tr style=\"text-align: right;\">\n",
       "      <th></th>\n",
       "      <th>id</th>\n",
       "      <th>sport</th>\n",
       "      <th>discipline</th>\n",
       "      <th>name</th>\n",
       "      <th>sex</th>\n",
       "      <th>venues</th>\n",
       "    </tr>\n",
       "  </thead>\n",
       "  <tbody>\n",
       "    <tr>\n",
       "      <th>0</th>\n",
       "      <td>939257</td>\n",
       "      <td>cycling</td>\n",
       "      <td>cycling bmx</td>\n",
       "      <td>Women</td>\n",
       "      <td>female</td>\n",
       "      <td>Olympic BMX Centre</td>\n",
       "    </tr>\n",
       "    <tr>\n",
       "      <th>1</th>\n",
       "      <td>411469</td>\n",
       "      <td>cycling</td>\n",
       "      <td>cycling bmx</td>\n",
       "      <td>Men</td>\n",
       "      <td>male</td>\n",
       "      <td>Olympic BMX Centre</td>\n",
       "    </tr>\n",
       "    <tr>\n",
       "      <th>2</th>\n",
       "      <td>609527</td>\n",
       "      <td>cycling</td>\n",
       "      <td>cycling mountain bike</td>\n",
       "      <td>Women's Cross-country</td>\n",
       "      <td>female</td>\n",
       "      <td>Mountain Bike Centre</td>\n",
       "    </tr>\n",
       "    <tr>\n",
       "      <th>3</th>\n",
       "      <td>397729</td>\n",
       "      <td>cycling</td>\n",
       "      <td>cycling mountain bike</td>\n",
       "      <td>Men's Cross-country</td>\n",
       "      <td>male</td>\n",
       "      <td>Mountain Bike Centre</td>\n",
       "    </tr>\n",
       "    <tr>\n",
       "      <th>4</th>\n",
       "      <td>246370</td>\n",
       "      <td>cycling</td>\n",
       "      <td>cycling road</td>\n",
       "      <td>Women's Individual Time Trial</td>\n",
       "      <td>female</td>\n",
       "      <td>Pontal</td>\n",
       "    </tr>\n",
       "    <tr>\n",
       "      <th>5</th>\n",
       "      <td>302623</td>\n",
       "      <td>cycling</td>\n",
       "      <td>cycling road</td>\n",
       "      <td>Women's Road Race</td>\n",
       "      <td>female</td>\n",
       "      <td>Fort Copacabana</td>\n",
       "    </tr>\n",
       "    <tr>\n",
       "      <th>6</th>\n",
       "      <td>513271</td>\n",
       "      <td>cycling</td>\n",
       "      <td>cycling road</td>\n",
       "      <td>Men's Individual Time Trial</td>\n",
       "      <td>male</td>\n",
       "      <td>Pontal</td>\n",
       "    </tr>\n",
       "    <tr>\n",
       "      <th>7</th>\n",
       "      <td>69639</td>\n",
       "      <td>cycling</td>\n",
       "      <td>cycling road</td>\n",
       "      <td>Men's Road Race</td>\n",
       "      <td>male</td>\n",
       "      <td>Fort Copacabana</td>\n",
       "    </tr>\n",
       "    <tr>\n",
       "      <th>8</th>\n",
       "      <td>86410</td>\n",
       "      <td>cycling</td>\n",
       "      <td>cycling track</td>\n",
       "      <td>Women's Keirin</td>\n",
       "      <td>female</td>\n",
       "      <td>Rio Olympic Velodrome</td>\n",
       "    </tr>\n",
       "    <tr>\n",
       "      <th>9</th>\n",
       "      <td>553518</td>\n",
       "      <td>cycling</td>\n",
       "      <td>cycling track</td>\n",
       "      <td>Women's Omnium</td>\n",
       "      <td>female</td>\n",
       "      <td>Rio Olympic Velodrome</td>\n",
       "    </tr>\n",
       "    <tr>\n",
       "      <th>10</th>\n",
       "      <td>773540</td>\n",
       "      <td>cycling</td>\n",
       "      <td>cycling track</td>\n",
       "      <td>Women's Sprint</td>\n",
       "      <td>female</td>\n",
       "      <td>Rio Olympic Velodrome</td>\n",
       "    </tr>\n",
       "    <tr>\n",
       "      <th>11</th>\n",
       "      <td>674617</td>\n",
       "      <td>cycling</td>\n",
       "      <td>cycling track</td>\n",
       "      <td>Women's Team Pursuit</td>\n",
       "      <td>female</td>\n",
       "      <td>Rio Olympic Velodrome</td>\n",
       "    </tr>\n",
       "    <tr>\n",
       "      <th>12</th>\n",
       "      <td>593019</td>\n",
       "      <td>cycling</td>\n",
       "      <td>cycling track</td>\n",
       "      <td>Women's Team Sprint</td>\n",
       "      <td>female</td>\n",
       "      <td>Rio Olympic Velodrome</td>\n",
       "    </tr>\n",
       "    <tr>\n",
       "      <th>13</th>\n",
       "      <td>880547</td>\n",
       "      <td>cycling</td>\n",
       "      <td>cycling track</td>\n",
       "      <td>Men's Keirin</td>\n",
       "      <td>male</td>\n",
       "      <td>Rio Olympic Velodrome</td>\n",
       "    </tr>\n",
       "    <tr>\n",
       "      <th>14</th>\n",
       "      <td>41008</td>\n",
       "      <td>cycling</td>\n",
       "      <td>cycling track</td>\n",
       "      <td>Men's Omnium</td>\n",
       "      <td>male</td>\n",
       "      <td>Rio Olympic Velodrome</td>\n",
       "    </tr>\n",
       "    <tr>\n",
       "      <th>15</th>\n",
       "      <td>718759</td>\n",
       "      <td>cycling</td>\n",
       "      <td>cycling track</td>\n",
       "      <td>Men's Sprint</td>\n",
       "      <td>male</td>\n",
       "      <td>Rio Olympic Velodrome</td>\n",
       "    </tr>\n",
       "    <tr>\n",
       "      <th>16</th>\n",
       "      <td>492594</td>\n",
       "      <td>cycling</td>\n",
       "      <td>cycling track</td>\n",
       "      <td>Men's Team Pursuit</td>\n",
       "      <td>male</td>\n",
       "      <td>Rio Olympic Velodrome</td>\n",
       "    </tr>\n",
       "    <tr>\n",
       "      <th>17</th>\n",
       "      <td>623046</td>\n",
       "      <td>cycling</td>\n",
       "      <td>cycling track</td>\n",
       "      <td>Men's Team Sprint</td>\n",
       "      <td>male</td>\n",
       "      <td>Rio Olympic Velodrome</td>\n",
       "    </tr>\n",
       "  </tbody>\n",
       "</table>\n",
       "</div>"
      ],
      "text/plain": [
       "        id    sport             discipline                           name  \\\n",
       "0   939257  cycling            cycling bmx                          Women   \n",
       "1   411469  cycling            cycling bmx                            Men   \n",
       "2   609527  cycling  cycling mountain bike          Women's Cross-country   \n",
       "3   397729  cycling  cycling mountain bike            Men's Cross-country   \n",
       "4   246370  cycling           cycling road  Women's Individual Time Trial   \n",
       "5   302623  cycling           cycling road              Women's Road Race   \n",
       "6   513271  cycling           cycling road    Men's Individual Time Trial   \n",
       "7    69639  cycling           cycling road                Men's Road Race   \n",
       "8    86410  cycling          cycling track                 Women's Keirin   \n",
       "9   553518  cycling          cycling track                 Women's Omnium   \n",
       "10  773540  cycling          cycling track                 Women's Sprint   \n",
       "11  674617  cycling          cycling track           Women's Team Pursuit   \n",
       "12  593019  cycling          cycling track            Women's Team Sprint   \n",
       "13  880547  cycling          cycling track                   Men's Keirin   \n",
       "14   41008  cycling          cycling track                   Men's Omnium   \n",
       "15  718759  cycling          cycling track                   Men's Sprint   \n",
       "16  492594  cycling          cycling track             Men's Team Pursuit   \n",
       "17  623046  cycling          cycling track              Men's Team Sprint   \n",
       "\n",
       "       sex                 venues  \n",
       "0   female     Olympic BMX Centre  \n",
       "1     male     Olympic BMX Centre  \n",
       "2   female   Mountain Bike Centre  \n",
       "3     male   Mountain Bike Centre  \n",
       "4   female                 Pontal  \n",
       "5   female        Fort Copacabana  \n",
       "6     male                 Pontal  \n",
       "7     male        Fort Copacabana  \n",
       "8   female  Rio Olympic Velodrome  \n",
       "9   female  Rio Olympic Velodrome  \n",
       "10  female  Rio Olympic Velodrome  \n",
       "11  female  Rio Olympic Velodrome  \n",
       "12  female  Rio Olympic Velodrome  \n",
       "13    male  Rio Olympic Velodrome  \n",
       "14    male  Rio Olympic Velodrome  \n",
       "15    male  Rio Olympic Velodrome  \n",
       "16    male  Rio Olympic Velodrome  \n",
       "17    male  Rio Olympic Velodrome  "
      ]
     },
     "execution_count": 20,
     "metadata": {},
     "output_type": "execute_result"
    }
   ],
   "source": [
    "cycling_data = data[data[\"sport\"]==\"cycling\"].reset_index(drop=True)\n",
    "cycling_data"
   ]
  },
  {
   "cell_type": "code",
   "execution_count": 21,
   "metadata": {},
   "outputs": [
    {
     "data": {
      "image/png": "[encoded data removed]",
      "text/plain": [
       "<Figure size 1152x360 with 2 Axes>"
      ]
     },
     "metadata": {
      "needs_background": "light"
     },
     "output_type": "display_data"
    }
   ],
   "source": [
    "fig= plt.figure(figsize= (16,5))\n",
    "\n",
    "\n",
    "fig.add_subplot(1,3,1)\n",
    "sns.countplot(cycling_data.sex)\n",
    "plt.yticks(np.arange(0,11,2))\n",
    "plt.title(\"CYCLING GENDERS BAR PLOT\")\n",
    "\n",
    "fig.add_subplot(1,3,2)\n",
    "plt.pie(cycling_data.sex.value_counts(), labels= cycling_data.sex.value_counts().index, autopct= '%1.2f%%', startangle= 90)\n",
    "plt.title('CYCLING GENDERS PIE CHART', fontsize= 13)\n",
    "\n",
    "plt.show()"
   ]
  },
  {
   "cell_type": "markdown",
   "metadata": {},
   "source": [
    " "
   ]
  },
  {
   "cell_type": "markdown",
   "metadata": {},
   "source": [
    "<b>For Playing In Olympic Stadium (Sports)</b>"
   ]
  },
  {
   "cell_type": "code",
   "execution_count": 22,
   "metadata": {},
   "outputs": [
    {
     "data": {
      "text/html": [
       "<div>\n",
       "<style scoped>\n",
       "    .dataframe tbody tr th:only-of-type {\n",
       "        vertical-align: middle;\n",
       "    }\n",
       "\n",
       "    .dataframe tbody tr th {\n",
       "        vertical-align: top;\n",
       "    }\n",
       "\n",
       "    .dataframe thead th {\n",
       "        text-align: right;\n",
       "    }\n",
       "</style>\n",
       "<table border=\"1\" class=\"dataframe\">\n",
       "  <thead>\n",
       "    <tr style=\"text-align: right;\">\n",
       "      <th></th>\n",
       "      <th>id</th>\n",
       "      <th>sport</th>\n",
       "      <th>discipline</th>\n",
       "      <th>name</th>\n",
       "      <th>sex</th>\n",
       "      <th>venues</th>\n",
       "    </tr>\n",
       "  </thead>\n",
       "  <tbody>\n",
       "    <tr>\n",
       "      <th>0</th>\n",
       "      <td>272651</td>\n",
       "      <td>athletics</td>\n",
       "      <td>combined</td>\n",
       "      <td>Women's Heptathlon</td>\n",
       "      <td>female</td>\n",
       "      <td>Olympic Stadium</td>\n",
       "    </tr>\n",
       "    <tr>\n",
       "      <th>1</th>\n",
       "      <td>772822</td>\n",
       "      <td>athletics</td>\n",
       "      <td>combined</td>\n",
       "      <td>Men's Decathlon</td>\n",
       "      <td>male</td>\n",
       "      <td>Olympic Stadium</td>\n",
       "    </tr>\n",
       "    <tr>\n",
       "      <th>2</th>\n",
       "      <td>628221</td>\n",
       "      <td>athletics</td>\n",
       "      <td>jumps</td>\n",
       "      <td>Women's High Jump</td>\n",
       "      <td>female</td>\n",
       "      <td>Olympic Stadium</td>\n",
       "    </tr>\n",
       "    <tr>\n",
       "      <th>3</th>\n",
       "      <td>757567</td>\n",
       "      <td>athletics</td>\n",
       "      <td>jumps</td>\n",
       "      <td>Women's Long Jump</td>\n",
       "      <td>female</td>\n",
       "      <td>Olympic Stadium</td>\n",
       "    </tr>\n",
       "    <tr>\n",
       "      <th>4</th>\n",
       "      <td>647207</td>\n",
       "      <td>athletics</td>\n",
       "      <td>jumps</td>\n",
       "      <td>Women's Pole Vault</td>\n",
       "      <td>female</td>\n",
       "      <td>Olympic Stadium</td>\n",
       "    </tr>\n",
       "    <tr>\n",
       "      <th>5</th>\n",
       "      <td>324700</td>\n",
       "      <td>athletics</td>\n",
       "      <td>jumps</td>\n",
       "      <td>Women's Triple Jump</td>\n",
       "      <td>female</td>\n",
       "      <td>Olympic Stadium</td>\n",
       "    </tr>\n",
       "    <tr>\n",
       "      <th>6</th>\n",
       "      <td>236418</td>\n",
       "      <td>athletics</td>\n",
       "      <td>jumps</td>\n",
       "      <td>Men's High Jump</td>\n",
       "      <td>male</td>\n",
       "      <td>Olympic Stadium</td>\n",
       "    </tr>\n",
       "    <tr>\n",
       "      <th>7</th>\n",
       "      <td>770978</td>\n",
       "      <td>athletics</td>\n",
       "      <td>jumps</td>\n",
       "      <td>Men's Long Jump</td>\n",
       "      <td>male</td>\n",
       "      <td>Olympic Stadium</td>\n",
       "    </tr>\n",
       "    <tr>\n",
       "      <th>8</th>\n",
       "      <td>323149</td>\n",
       "      <td>athletics</td>\n",
       "      <td>jumps</td>\n",
       "      <td>Men's Pole Vault</td>\n",
       "      <td>male</td>\n",
       "      <td>Olympic Stadium</td>\n",
       "    </tr>\n",
       "    <tr>\n",
       "      <th>9</th>\n",
       "      <td>606367</td>\n",
       "      <td>athletics</td>\n",
       "      <td>jumps</td>\n",
       "      <td>Men's Triple Jump</td>\n",
       "      <td>male</td>\n",
       "      <td>Olympic Stadium</td>\n",
       "    </tr>\n",
       "    <tr>\n",
       "      <th>10</th>\n",
       "      <td>551739</td>\n",
       "      <td>athletics</td>\n",
       "      <td>throws</td>\n",
       "      <td>Women's Discus Throw</td>\n",
       "      <td>female</td>\n",
       "      <td>Olympic Stadium</td>\n",
       "    </tr>\n",
       "    <tr>\n",
       "      <th>11</th>\n",
       "      <td>757855</td>\n",
       "      <td>athletics</td>\n",
       "      <td>throws</td>\n",
       "      <td>Women's Hammer Throw</td>\n",
       "      <td>female</td>\n",
       "      <td>Olympic Stadium</td>\n",
       "    </tr>\n",
       "    <tr>\n",
       "      <th>12</th>\n",
       "      <td>153195</td>\n",
       "      <td>athletics</td>\n",
       "      <td>throws</td>\n",
       "      <td>Women's Javelin Throw</td>\n",
       "      <td>female</td>\n",
       "      <td>Olympic Stadium</td>\n",
       "    </tr>\n",
       "    <tr>\n",
       "      <th>13</th>\n",
       "      <td>341126</td>\n",
       "      <td>athletics</td>\n",
       "      <td>throws</td>\n",
       "      <td>Women's Shot Put</td>\n",
       "      <td>female</td>\n",
       "      <td>Olympic Stadium</td>\n",
       "    </tr>\n",
       "    <tr>\n",
       "      <th>14</th>\n",
       "      <td>249009</td>\n",
       "      <td>athletics</td>\n",
       "      <td>throws</td>\n",
       "      <td>Men's Discus Throw</td>\n",
       "      <td>male</td>\n",
       "      <td>Olympic Stadium</td>\n",
       "    </tr>\n",
       "    <tr>\n",
       "      <th>15</th>\n",
       "      <td>571592</td>\n",
       "      <td>athletics</td>\n",
       "      <td>throws</td>\n",
       "      <td>Men's Hammer Throw</td>\n",
       "      <td>male</td>\n",
       "      <td>Olympic Stadium</td>\n",
       "    </tr>\n",
       "    <tr>\n",
       "      <th>16</th>\n",
       "      <td>919516</td>\n",
       "      <td>athletics</td>\n",
       "      <td>throws</td>\n",
       "      <td>Men's Javelin Throw</td>\n",
       "      <td>male</td>\n",
       "      <td>Olympic Stadium</td>\n",
       "    </tr>\n",
       "    <tr>\n",
       "      <th>17</th>\n",
       "      <td>777467</td>\n",
       "      <td>athletics</td>\n",
       "      <td>throws</td>\n",
       "      <td>Men's Shot Put</td>\n",
       "      <td>male</td>\n",
       "      <td>Olympic Stadium</td>\n",
       "    </tr>\n",
       "    <tr>\n",
       "      <th>18</th>\n",
       "      <td>532996</td>\n",
       "      <td>athletics</td>\n",
       "      <td>track</td>\n",
       "      <td>Women's 10,000m</td>\n",
       "      <td>female</td>\n",
       "      <td>Olympic Stadium</td>\n",
       "    </tr>\n",
       "    <tr>\n",
       "      <th>19</th>\n",
       "      <td>598702</td>\n",
       "      <td>athletics</td>\n",
       "      <td>track</td>\n",
       "      <td>Women's 100m</td>\n",
       "      <td>female</td>\n",
       "      <td>Olympic Stadium</td>\n",
       "    </tr>\n",
       "    <tr>\n",
       "      <th>20</th>\n",
       "      <td>971198</td>\n",
       "      <td>athletics</td>\n",
       "      <td>track</td>\n",
       "      <td>Women's 100m Hurdles</td>\n",
       "      <td>female</td>\n",
       "      <td>Olympic Stadium</td>\n",
       "    </tr>\n",
       "    <tr>\n",
       "      <th>21</th>\n",
       "      <td>222827</td>\n",
       "      <td>athletics</td>\n",
       "      <td>track</td>\n",
       "      <td>Women's 1500m</td>\n",
       "      <td>female</td>\n",
       "      <td>Olympic Stadium</td>\n",
       "    </tr>\n",
       "    <tr>\n",
       "      <th>22</th>\n",
       "      <td>261741</td>\n",
       "      <td>athletics</td>\n",
       "      <td>track</td>\n",
       "      <td>Women's 200m</td>\n",
       "      <td>female</td>\n",
       "      <td>Olympic Stadium</td>\n",
       "    </tr>\n",
       "    <tr>\n",
       "      <th>23</th>\n",
       "      <td>561270</td>\n",
       "      <td>athletics</td>\n",
       "      <td>track</td>\n",
       "      <td>Women's 3000m Steeplechase</td>\n",
       "      <td>female</td>\n",
       "      <td>Olympic Stadium</td>\n",
       "    </tr>\n",
       "    <tr>\n",
       "      <th>24</th>\n",
       "      <td>879766</td>\n",
       "      <td>athletics</td>\n",
       "      <td>track</td>\n",
       "      <td>Women's 4 x 100m Relay</td>\n",
       "      <td>female</td>\n",
       "      <td>Olympic Stadium</td>\n",
       "    </tr>\n",
       "    <tr>\n",
       "      <th>25</th>\n",
       "      <td>927436</td>\n",
       "      <td>athletics</td>\n",
       "      <td>track</td>\n",
       "      <td>Women's 4 x 400m Relay</td>\n",
       "      <td>female</td>\n",
       "      <td>Olympic Stadium</td>\n",
       "    </tr>\n",
       "    <tr>\n",
       "      <th>26</th>\n",
       "      <td>539936</td>\n",
       "      <td>athletics</td>\n",
       "      <td>track</td>\n",
       "      <td>Women's 400m</td>\n",
       "      <td>female</td>\n",
       "      <td>Olympic Stadium</td>\n",
       "    </tr>\n",
       "    <tr>\n",
       "      <th>27</th>\n",
       "      <td>1075</td>\n",
       "      <td>athletics</td>\n",
       "      <td>track</td>\n",
       "      <td>Women's 400m Hurdles</td>\n",
       "      <td>female</td>\n",
       "      <td>Olympic Stadium</td>\n",
       "    </tr>\n",
       "    <tr>\n",
       "      <th>28</th>\n",
       "      <td>802434</td>\n",
       "      <td>athletics</td>\n",
       "      <td>track</td>\n",
       "      <td>Women's 5000m</td>\n",
       "      <td>female</td>\n",
       "      <td>Olympic Stadium</td>\n",
       "    </tr>\n",
       "    <tr>\n",
       "      <th>29</th>\n",
       "      <td>347244</td>\n",
       "      <td>athletics</td>\n",
       "      <td>track</td>\n",
       "      <td>Women's 800m</td>\n",
       "      <td>female</td>\n",
       "      <td>Olympic Stadium</td>\n",
       "    </tr>\n",
       "    <tr>\n",
       "      <th>30</th>\n",
       "      <td>752</td>\n",
       "      <td>athletics</td>\n",
       "      <td>track</td>\n",
       "      <td>Men's 10,000m</td>\n",
       "      <td>male</td>\n",
       "      <td>Olympic Stadium</td>\n",
       "    </tr>\n",
       "    <tr>\n",
       "      <th>31</th>\n",
       "      <td>423428</td>\n",
       "      <td>athletics</td>\n",
       "      <td>track</td>\n",
       "      <td>Men's 100m</td>\n",
       "      <td>male</td>\n",
       "      <td>Olympic Stadium</td>\n",
       "    </tr>\n",
       "    <tr>\n",
       "      <th>32</th>\n",
       "      <td>745937</td>\n",
       "      <td>athletics</td>\n",
       "      <td>track</td>\n",
       "      <td>Men's 110m Hurdles</td>\n",
       "      <td>male</td>\n",
       "      <td>Olympic Stadium</td>\n",
       "    </tr>\n",
       "    <tr>\n",
       "      <th>33</th>\n",
       "      <td>43204</td>\n",
       "      <td>athletics</td>\n",
       "      <td>track</td>\n",
       "      <td>Men's 1500m</td>\n",
       "      <td>male</td>\n",
       "      <td>Olympic Stadium</td>\n",
       "    </tr>\n",
       "    <tr>\n",
       "      <th>34</th>\n",
       "      <td>226698</td>\n",
       "      <td>athletics</td>\n",
       "      <td>track</td>\n",
       "      <td>Men's 200m</td>\n",
       "      <td>male</td>\n",
       "      <td>Olympic Stadium</td>\n",
       "    </tr>\n",
       "    <tr>\n",
       "      <th>35</th>\n",
       "      <td>715173</td>\n",
       "      <td>athletics</td>\n",
       "      <td>track</td>\n",
       "      <td>Men's 3000m Steeplechase</td>\n",
       "      <td>male</td>\n",
       "      <td>Olympic Stadium</td>\n",
       "    </tr>\n",
       "    <tr>\n",
       "      <th>36</th>\n",
       "      <td>778161</td>\n",
       "      <td>athletics</td>\n",
       "      <td>track</td>\n",
       "      <td>Men's 4 x 100m Relay</td>\n",
       "      <td>male</td>\n",
       "      <td>Olympic Stadium</td>\n",
       "    </tr>\n",
       "    <tr>\n",
       "      <th>37</th>\n",
       "      <td>625766</td>\n",
       "      <td>athletics</td>\n",
       "      <td>track</td>\n",
       "      <td>Men's 4 x 400m Relay</td>\n",
       "      <td>male</td>\n",
       "      <td>Olympic Stadium</td>\n",
       "    </tr>\n",
       "    <tr>\n",
       "      <th>38</th>\n",
       "      <td>277121</td>\n",
       "      <td>athletics</td>\n",
       "      <td>track</td>\n",
       "      <td>Men's 400m</td>\n",
       "      <td>male</td>\n",
       "      <td>Olympic Stadium</td>\n",
       "    </tr>\n",
       "    <tr>\n",
       "      <th>39</th>\n",
       "      <td>747066</td>\n",
       "      <td>athletics</td>\n",
       "      <td>track</td>\n",
       "      <td>Men's 400m Hurdles</td>\n",
       "      <td>male</td>\n",
       "      <td>Olympic Stadium</td>\n",
       "    </tr>\n",
       "    <tr>\n",
       "      <th>40</th>\n",
       "      <td>530376</td>\n",
       "      <td>athletics</td>\n",
       "      <td>track</td>\n",
       "      <td>Men's 5000m</td>\n",
       "      <td>male</td>\n",
       "      <td>Olympic Stadium</td>\n",
       "    </tr>\n",
       "    <tr>\n",
       "      <th>41</th>\n",
       "      <td>698080</td>\n",
       "      <td>athletics</td>\n",
       "      <td>track</td>\n",
       "      <td>Men's 800m</td>\n",
       "      <td>male</td>\n",
       "      <td>Olympic Stadium</td>\n",
       "    </tr>\n",
       "  </tbody>\n",
       "</table>\n",
       "</div>"
      ],
      "text/plain": [
       "        id      sport discipline                        name     sex  \\\n",
       "0   272651  athletics   combined          Women's Heptathlon  female   \n",
       "1   772822  athletics   combined             Men's Decathlon    male   \n",
       "2   628221  athletics      jumps           Women's High Jump  female   \n",
       "3   757567  athletics      jumps           Women's Long Jump  female   \n",
       "4   647207  athletics      jumps          Women's Pole Vault  female   \n",
       "5   324700  athletics      jumps         Women's Triple Jump  female   \n",
       "6   236418  athletics      jumps             Men's High Jump    male   \n",
       "7   770978  athletics      jumps             Men's Long Jump    male   \n",
       "8   323149  athletics      jumps            Men's Pole Vault    male   \n",
       "9   606367  athletics      jumps           Men's Triple Jump    male   \n",
       "10  551739  athletics     throws        Women's Discus Throw  female   \n",
       "11  757855  athletics     throws        Women's Hammer Throw  female   \n",
       "12  153195  athletics     throws       Women's Javelin Throw  female   \n",
       "13  341126  athletics     throws            Women's Shot Put  female   \n",
       "14  249009  athletics     throws          Men's Discus Throw    male   \n",
       "15  571592  athletics     throws          Men's Hammer Throw    male   \n",
       "16  919516  athletics     throws         Men's Javelin Throw    male   \n",
       "17  777467  athletics     throws              Men's Shot Put    male   \n",
       "18  532996  athletics      track             Women's 10,000m  female   \n",
       "19  598702  athletics      track                Women's 100m  female   \n",
       "20  971198  athletics      track        Women's 100m Hurdles  female   \n",
       "21  222827  athletics      track               Women's 1500m  female   \n",
       "22  261741  athletics      track                Women's 200m  female   \n",
       "23  561270  athletics      track  Women's 3000m Steeplechase  female   \n",
       "24  879766  athletics      track      Women's 4 x 100m Relay  female   \n",
       "25  927436  athletics      track      Women's 4 x 400m Relay  female   \n",
       "26  539936  athletics      track                Women's 400m  female   \n",
       "27    1075  athletics      track        Women's 400m Hurdles  female   \n",
       "28  802434  athletics      track               Women's 5000m  female   \n",
       "29  347244  athletics      track                Women's 800m  female   \n",
       "30     752  athletics      track               Men's 10,000m    male   \n",
       "31  423428  athletics      track                  Men's 100m    male   \n",
       "32  745937  athletics      track          Men's 110m Hurdles    male   \n",
       "33   43204  athletics      track                 Men's 1500m    male   \n",
       "34  226698  athletics      track                  Men's 200m    male   \n",
       "35  715173  athletics      track    Men's 3000m Steeplechase    male   \n",
       "36  778161  athletics      track        Men's 4 x 100m Relay    male   \n",
       "37  625766  athletics      track        Men's 4 x 400m Relay    male   \n",
       "38  277121  athletics      track                  Men's 400m    male   \n",
       "39  747066  athletics      track          Men's 400m Hurdles    male   \n",
       "40  530376  athletics      track                 Men's 5000m    male   \n",
       "41  698080  athletics      track                  Men's 800m    male   \n",
       "\n",
       "             venues  \n",
       "0   Olympic Stadium  \n",
       "1   Olympic Stadium  \n",
       "2   Olympic Stadium  \n",
       "3   Olympic Stadium  \n",
       "4   Olympic Stadium  \n",
       "5   Olympic Stadium  \n",
       "6   Olympic Stadium  \n",
       "7   Olympic Stadium  \n",
       "8   Olympic Stadium  \n",
       "9   Olympic Stadium  \n",
       "10  Olympic Stadium  \n",
       "11  Olympic Stadium  \n",
       "12  Olympic Stadium  \n",
       "13  Olympic Stadium  \n",
       "14  Olympic Stadium  \n",
       "15  Olympic Stadium  \n",
       "16  Olympic Stadium  \n",
       "17  Olympic Stadium  \n",
       "18  Olympic Stadium  \n",
       "19  Olympic Stadium  \n",
       "20  Olympic Stadium  \n",
       "21  Olympic Stadium  \n",
       "22  Olympic Stadium  \n",
       "23  Olympic Stadium  \n",
       "24  Olympic Stadium  \n",
       "25  Olympic Stadium  \n",
       "26  Olympic Stadium  \n",
       "27  Olympic Stadium  \n",
       "28  Olympic Stadium  \n",
       "29  Olympic Stadium  \n",
       "30  Olympic Stadium  \n",
       "31  Olympic Stadium  \n",
       "32  Olympic Stadium  \n",
       "33  Olympic Stadium  \n",
       "34  Olympic Stadium  \n",
       "35  Olympic Stadium  \n",
       "36  Olympic Stadium  \n",
       "37  Olympic Stadium  \n",
       "38  Olympic Stadium  \n",
       "39  Olympic Stadium  \n",
       "40  Olympic Stadium  \n",
       "41  Olympic Stadium  "
      ]
     },
     "execution_count": 22,
     "metadata": {},
     "output_type": "execute_result"
    }
   ],
   "source": [
    "olympic_std = data[data[\"venues\"]==\"Olympic Stadium\"].reset_index(drop=True)\n",
    "olympic_std"
   ]
  },
  {
   "cell_type": "code",
   "execution_count": 23,
   "metadata": {},
   "outputs": [
    {
     "data": {
      "image/png": "[encoded data removed]",
      "text/plain": [
       "<Figure size 1152x360 with 2 Axes>"
      ]
     },
     "metadata": {
      "needs_background": "light"
     },
     "output_type": "display_data"
    }
   ],
   "source": [
    "fig= plt.figure(figsize= (16,5))\n",
    "\n",
    "\n",
    "fig.add_subplot(1,3,1)\n",
    "sns.countplot(olympic_std.sex)\n",
    "plt.yticks(np.arange(0,23,2))\n",
    "plt.title(\"OLYMPIC STADIUM GENDERS BAR PLOT\")\n",
    "\n",
    "fig.add_subplot(1,3,2)\n",
    "plt.pie(olympic_std.sex.value_counts(), labels= olympic_std.sex.value_counts().index, autopct= '%1.2f%%', startangle= 90)\n",
    "plt.title('OLYMPIC STADIUM GENDERS PIE CHART', fontsize= 13)\n",
    "\n",
    "plt.show()"
   ]
  },
  {
   "cell_type": "markdown",
   "metadata": {},
   "source": [
    " "
   ]
  },
  {
   "cell_type": "markdown",
   "metadata": {},
   "source": [
    "<b>For Weigth-Lifting (Discpline)</b>"
   ]
  },
  {
   "cell_type": "code",
   "execution_count": 24,
   "metadata": {},
   "outputs": [
    {
     "data": {
      "text/html": [
       "<div>\n",
       "<style scoped>\n",
       "    .dataframe tbody tr th:only-of-type {\n",
       "        vertical-align: middle;\n",
       "    }\n",
       "\n",
       "    .dataframe tbody tr th {\n",
       "        vertical-align: top;\n",
       "    }\n",
       "\n",
       "    .dataframe thead th {\n",
       "        text-align: right;\n",
       "    }\n",
       "</style>\n",
       "<table border=\"1\" class=\"dataframe\">\n",
       "  <thead>\n",
       "    <tr style=\"text-align: right;\">\n",
       "      <th></th>\n",
       "      <th>id</th>\n",
       "      <th>sport</th>\n",
       "      <th>discipline</th>\n",
       "      <th>name</th>\n",
       "      <th>sex</th>\n",
       "      <th>venues</th>\n",
       "    </tr>\n",
       "  </thead>\n",
       "  <tbody>\n",
       "    <tr>\n",
       "      <th>0</th>\n",
       "      <td>61753</td>\n",
       "      <td>weightlifting</td>\n",
       "      <td>weightlifting</td>\n",
       "      <td>Women's +75kg</td>\n",
       "      <td>female</td>\n",
       "      <td>Riocentro - Pavilion 2</td>\n",
       "    </tr>\n",
       "    <tr>\n",
       "      <th>1</th>\n",
       "      <td>875734</td>\n",
       "      <td>weightlifting</td>\n",
       "      <td>weightlifting</td>\n",
       "      <td>Women's 48kg</td>\n",
       "      <td>female</td>\n",
       "      <td>Riocentro - Pavilion 2</td>\n",
       "    </tr>\n",
       "    <tr>\n",
       "      <th>2</th>\n",
       "      <td>54259</td>\n",
       "      <td>weightlifting</td>\n",
       "      <td>weightlifting</td>\n",
       "      <td>Women's 53kg</td>\n",
       "      <td>female</td>\n",
       "      <td>Riocentro - Pavilion 2</td>\n",
       "    </tr>\n",
       "    <tr>\n",
       "      <th>3</th>\n",
       "      <td>797257</td>\n",
       "      <td>weightlifting</td>\n",
       "      <td>weightlifting</td>\n",
       "      <td>Women's 58kg</td>\n",
       "      <td>female</td>\n",
       "      <td>Riocentro - Pavilion 2</td>\n",
       "    </tr>\n",
       "    <tr>\n",
       "      <th>4</th>\n",
       "      <td>512287</td>\n",
       "      <td>weightlifting</td>\n",
       "      <td>weightlifting</td>\n",
       "      <td>Women's 63kg</td>\n",
       "      <td>female</td>\n",
       "      <td>Riocentro - Pavilion 2</td>\n",
       "    </tr>\n",
       "    <tr>\n",
       "      <th>5</th>\n",
       "      <td>677718</td>\n",
       "      <td>weightlifting</td>\n",
       "      <td>weightlifting</td>\n",
       "      <td>Women's 69kg</td>\n",
       "      <td>female</td>\n",
       "      <td>Riocentro - Pavilion 2</td>\n",
       "    </tr>\n",
       "    <tr>\n",
       "      <th>6</th>\n",
       "      <td>417256</td>\n",
       "      <td>weightlifting</td>\n",
       "      <td>weightlifting</td>\n",
       "      <td>Women's 75kg</td>\n",
       "      <td>female</td>\n",
       "      <td>Riocentro - Pavilion 2</td>\n",
       "    </tr>\n",
       "    <tr>\n",
       "      <th>7</th>\n",
       "      <td>212799</td>\n",
       "      <td>weightlifting</td>\n",
       "      <td>weightlifting</td>\n",
       "      <td>Men's +105kg</td>\n",
       "      <td>male</td>\n",
       "      <td>Riocentro - Pavilion 2</td>\n",
       "    </tr>\n",
       "    <tr>\n",
       "      <th>8</th>\n",
       "      <td>902263</td>\n",
       "      <td>weightlifting</td>\n",
       "      <td>weightlifting</td>\n",
       "      <td>Men's 105kg</td>\n",
       "      <td>male</td>\n",
       "      <td>Riocentro - Pavilion 2</td>\n",
       "    </tr>\n",
       "    <tr>\n",
       "      <th>9</th>\n",
       "      <td>182568</td>\n",
       "      <td>weightlifting</td>\n",
       "      <td>weightlifting</td>\n",
       "      <td>Men's 56kg</td>\n",
       "      <td>male</td>\n",
       "      <td>Riocentro - Pavilion 2</td>\n",
       "    </tr>\n",
       "    <tr>\n",
       "      <th>10</th>\n",
       "      <td>273149</td>\n",
       "      <td>weightlifting</td>\n",
       "      <td>weightlifting</td>\n",
       "      <td>Men's 62kg</td>\n",
       "      <td>male</td>\n",
       "      <td>Riocentro - Pavilion 2</td>\n",
       "    </tr>\n",
       "    <tr>\n",
       "      <th>11</th>\n",
       "      <td>883392</td>\n",
       "      <td>weightlifting</td>\n",
       "      <td>weightlifting</td>\n",
       "      <td>Men's 69kg</td>\n",
       "      <td>male</td>\n",
       "      <td>Riocentro - Pavilion 2</td>\n",
       "    </tr>\n",
       "    <tr>\n",
       "      <th>12</th>\n",
       "      <td>82845</td>\n",
       "      <td>weightlifting</td>\n",
       "      <td>weightlifting</td>\n",
       "      <td>Men's 77kg</td>\n",
       "      <td>male</td>\n",
       "      <td>Riocentro - Pavilion 2</td>\n",
       "    </tr>\n",
       "    <tr>\n",
       "      <th>13</th>\n",
       "      <td>415046</td>\n",
       "      <td>weightlifting</td>\n",
       "      <td>weightlifting</td>\n",
       "      <td>Men's 85kg</td>\n",
       "      <td>male</td>\n",
       "      <td>Riocentro - Pavilion 2</td>\n",
       "    </tr>\n",
       "    <tr>\n",
       "      <th>14</th>\n",
       "      <td>747577</td>\n",
       "      <td>weightlifting</td>\n",
       "      <td>weightlifting</td>\n",
       "      <td>Men's 94kg</td>\n",
       "      <td>male</td>\n",
       "      <td>Riocentro - Pavilion 2</td>\n",
       "    </tr>\n",
       "  </tbody>\n",
       "</table>\n",
       "</div>"
      ],
      "text/plain": [
       "        id          sport     discipline           name     sex  \\\n",
       "0    61753  weightlifting  weightlifting  Women's +75kg  female   \n",
       "1   875734  weightlifting  weightlifting   Women's 48kg  female   \n",
       "2    54259  weightlifting  weightlifting   Women's 53kg  female   \n",
       "3   797257  weightlifting  weightlifting   Women's 58kg  female   \n",
       "4   512287  weightlifting  weightlifting   Women's 63kg  female   \n",
       "5   677718  weightlifting  weightlifting   Women's 69kg  female   \n",
       "6   417256  weightlifting  weightlifting   Women's 75kg  female   \n",
       "7   212799  weightlifting  weightlifting   Men's +105kg    male   \n",
       "8   902263  weightlifting  weightlifting    Men's 105kg    male   \n",
       "9   182568  weightlifting  weightlifting     Men's 56kg    male   \n",
       "10  273149  weightlifting  weightlifting     Men's 62kg    male   \n",
       "11  883392  weightlifting  weightlifting     Men's 69kg    male   \n",
       "12   82845  weightlifting  weightlifting     Men's 77kg    male   \n",
       "13  415046  weightlifting  weightlifting     Men's 85kg    male   \n",
       "14  747577  weightlifting  weightlifting     Men's 94kg    male   \n",
       "\n",
       "                    venues  \n",
       "0   Riocentro - Pavilion 2  \n",
       "1   Riocentro - Pavilion 2  \n",
       "2   Riocentro - Pavilion 2  \n",
       "3   Riocentro - Pavilion 2  \n",
       "4   Riocentro - Pavilion 2  \n",
       "5   Riocentro - Pavilion 2  \n",
       "6   Riocentro - Pavilion 2  \n",
       "7   Riocentro - Pavilion 2  \n",
       "8   Riocentro - Pavilion 2  \n",
       "9   Riocentro - Pavilion 2  \n",
       "10  Riocentro - Pavilion 2  \n",
       "11  Riocentro - Pavilion 2  \n",
       "12  Riocentro - Pavilion 2  \n",
       "13  Riocentro - Pavilion 2  \n",
       "14  Riocentro - Pavilion 2  "
      ]
     },
     "execution_count": 24,
     "metadata": {},
     "output_type": "execute_result"
    }
   ],
   "source": [
    "weightlift_data = data[data[\"discipline\"]==\"weightlifting\"].reset_index(drop=True)\n",
    "weightlift_data"
   ]
  },
  {
   "cell_type": "code",
   "execution_count": 25,
   "metadata": {},
   "outputs": [
    {
     "data": {
      "image/png": "[encoded data removed]",
      "text/plain": [
       "<Figure size 1152x360 with 2 Axes>"
      ]
     },
     "metadata": {
      "needs_background": "light"
     },
     "output_type": "display_data"
    }
   ],
   "source": [
    "fig= plt.figure(figsize= (16,5))\n",
    "\n",
    "\n",
    "fig.add_subplot(1,3,1)\n",
    "sns.countplot(weightlift_data.sex)\n",
    "#plt.yticks(np.arange(0,23,2))\n",
    "plt.title(\"WEIGHT-LIFTING GENDERS BAR PLOT\")\n",
    "\n",
    "fig.add_subplot(1,3,2)\n",
    "plt.pie(weightlift_data.sex.value_counts(), labels= weightlift_data.sex.value_counts().index, autopct= '%1.2f%%', startangle= 90)\n",
    "plt.title('WEIGHT-LIFTING GENDERS PIE CHART', fontsize= 13)\n",
    "\n",
    "plt.show()"
   ]
  },
  {
   "cell_type": "markdown",
   "metadata": {},
   "source": [
    "----------------"
   ]
  },
  {
   "cell_type": "markdown",
   "metadata": {},
   "source": [
    "<b>SOME MISCELLANEOUS QUERIES</b>"
   ]
  },
  {
   "cell_type": "markdown",
   "metadata": {},
   "source": [
    "<b>Cycling Venues And Their Counts</b>"
   ]
  },
  {
   "cell_type": "code",
   "execution_count": 28,
   "metadata": {},
   "outputs": [
    {
     "data": {
      "text/plain": [
       "Rio Olympic Velodrome    10\n",
       "Pontal                    2\n",
       "Fort Copacabana           2\n",
       "Olympic BMX Centre        2\n",
       "Mountain Bike Centre      2\n",
       "Name: venues, dtype: int64"
      ]
     },
     "execution_count": 28,
     "metadata": {},
     "output_type": "execute_result"
    }
   ],
   "source": [
    "# COUNTS\n",
    "cycling_data.venues.value_counts()"
   ]
  },
  {
   "cell_type": "code",
   "execution_count": 33,
   "metadata": {},
   "outputs": [
    {
     "data": {
      "image/png": "[encoded data removed]",
      "text/plain": [
       "<Figure size 1152x360 with 2 Axes>"
      ]
     },
     "metadata": {
      "needs_background": "light"
     },
     "output_type": "display_data"
    }
   ],
   "source": [
    "# VISUALS\n",
    "\n",
    "fig= plt.figure(figsize= (16,5))\n",
    "\n",
    "fig.add_subplot(1,3,1)\n",
    "sns.countplot(y = cycling_data.venues)\n",
    "#plt.yticks(np.arange(0,23,2))\n",
    "plt.title(\"CYCLING VENUES BAR PLOT\")\n",
    "\n",
    "fig.add_subplot(1,3,2)\n",
    "plt.pie(cycling_data.venues.value_counts(), labels= cycling_data.venues.value_counts().index, autopct= '%1.2f%%', startangle= 0)\n",
    "plt.title('CYCLING VENUES PIE CHART', fontsize= 13)\n",
    "\n",
    "plt.show()"
   ]
  },
  {
   "cell_type": "markdown",
   "metadata": {},
   "source": [
    " "
   ]
  },
  {
   "cell_type": "markdown",
   "metadata": {},
   "source": [
    "<b>Disciplines Of Gymnastics Sport</b>"
   ]
  },
  {
   "cell_type": "code",
   "execution_count": 34,
   "metadata": {},
   "outputs": [
    {
     "data": {
      "text/html": [
       "<div>\n",
       "<style scoped>\n",
       "    .dataframe tbody tr th:only-of-type {\n",
       "        vertical-align: middle;\n",
       "    }\n",
       "\n",
       "    .dataframe tbody tr th {\n",
       "        vertical-align: top;\n",
       "    }\n",
       "\n",
       "    .dataframe thead th {\n",
       "        text-align: right;\n",
       "    }\n",
       "</style>\n",
       "<table border=\"1\" class=\"dataframe\">\n",
       "  <thead>\n",
       "    <tr style=\"text-align: right;\">\n",
       "      <th></th>\n",
       "      <th>id</th>\n",
       "      <th>sport</th>\n",
       "      <th>discipline</th>\n",
       "      <th>name</th>\n",
       "      <th>sex</th>\n",
       "      <th>venues</th>\n",
       "    </tr>\n",
       "  </thead>\n",
       "  <tbody>\n",
       "    <tr>\n",
       "      <th>0</th>\n",
       "      <td>148864</td>\n",
       "      <td>gymnastics</td>\n",
       "      <td>artistic gymnastics</td>\n",
       "      <td>Women's Balance Beam</td>\n",
       "      <td>female</td>\n",
       "      <td>Rio Olympic Arena</td>\n",
       "    </tr>\n",
       "    <tr>\n",
       "      <th>1</th>\n",
       "      <td>816897</td>\n",
       "      <td>gymnastics</td>\n",
       "      <td>artistic gymnastics</td>\n",
       "      <td>Women's Floor Exercise</td>\n",
       "      <td>female</td>\n",
       "      <td>Rio Olympic Arena</td>\n",
       "    </tr>\n",
       "    <tr>\n",
       "      <th>2</th>\n",
       "      <td>884887</td>\n",
       "      <td>gymnastics</td>\n",
       "      <td>artistic gymnastics</td>\n",
       "      <td>Women's Individual All-Around</td>\n",
       "      <td>female</td>\n",
       "      <td>Rio Olympic Arena</td>\n",
       "    </tr>\n",
       "    <tr>\n",
       "      <th>3</th>\n",
       "      <td>866079</td>\n",
       "      <td>gymnastics</td>\n",
       "      <td>artistic gymnastics</td>\n",
       "      <td>Women's Team</td>\n",
       "      <td>female</td>\n",
       "      <td>Rio Olympic Arena</td>\n",
       "    </tr>\n",
       "    <tr>\n",
       "      <th>4</th>\n",
       "      <td>259226</td>\n",
       "      <td>gymnastics</td>\n",
       "      <td>artistic gymnastics</td>\n",
       "      <td>Women's Uneven Bars</td>\n",
       "      <td>female</td>\n",
       "      <td>Rio Olympic Arena</td>\n",
       "    </tr>\n",
       "    <tr>\n",
       "      <th>5</th>\n",
       "      <td>14799</td>\n",
       "      <td>gymnastics</td>\n",
       "      <td>artistic gymnastics</td>\n",
       "      <td>Women's Vault</td>\n",
       "      <td>female</td>\n",
       "      <td>Rio Olympic Arena</td>\n",
       "    </tr>\n",
       "    <tr>\n",
       "      <th>6</th>\n",
       "      <td>762301</td>\n",
       "      <td>gymnastics</td>\n",
       "      <td>artistic gymnastics</td>\n",
       "      <td>Men's Floor Exercise</td>\n",
       "      <td>male</td>\n",
       "      <td>Rio Olympic Arena</td>\n",
       "    </tr>\n",
       "    <tr>\n",
       "      <th>7</th>\n",
       "      <td>716295</td>\n",
       "      <td>gymnastics</td>\n",
       "      <td>artistic gymnastics</td>\n",
       "      <td>Men's Horizontal Bar</td>\n",
       "      <td>male</td>\n",
       "      <td>Rio Olympic Arena</td>\n",
       "    </tr>\n",
       "    <tr>\n",
       "      <th>8</th>\n",
       "      <td>818747</td>\n",
       "      <td>gymnastics</td>\n",
       "      <td>artistic gymnastics</td>\n",
       "      <td>Men's Individual All-Around</td>\n",
       "      <td>male</td>\n",
       "      <td>Rio Olympic Arena</td>\n",
       "    </tr>\n",
       "    <tr>\n",
       "      <th>9</th>\n",
       "      <td>120863</td>\n",
       "      <td>gymnastics</td>\n",
       "      <td>artistic gymnastics</td>\n",
       "      <td>Men's Parallel Bars</td>\n",
       "      <td>male</td>\n",
       "      <td>Rio Olympic Arena</td>\n",
       "    </tr>\n",
       "    <tr>\n",
       "      <th>10</th>\n",
       "      <td>68030</td>\n",
       "      <td>gymnastics</td>\n",
       "      <td>artistic gymnastics</td>\n",
       "      <td>Men's Pommel Horse</td>\n",
       "      <td>male</td>\n",
       "      <td>Rio Olympic Arena</td>\n",
       "    </tr>\n",
       "    <tr>\n",
       "      <th>11</th>\n",
       "      <td>856285</td>\n",
       "      <td>gymnastics</td>\n",
       "      <td>artistic gymnastics</td>\n",
       "      <td>Men's Rings</td>\n",
       "      <td>male</td>\n",
       "      <td>Rio Olympic Arena</td>\n",
       "    </tr>\n",
       "    <tr>\n",
       "      <th>12</th>\n",
       "      <td>823595</td>\n",
       "      <td>gymnastics</td>\n",
       "      <td>artistic gymnastics</td>\n",
       "      <td>Men's Team</td>\n",
       "      <td>male</td>\n",
       "      <td>Rio Olympic Arena</td>\n",
       "    </tr>\n",
       "    <tr>\n",
       "      <th>13</th>\n",
       "      <td>876371</td>\n",
       "      <td>gymnastics</td>\n",
       "      <td>artistic gymnastics</td>\n",
       "      <td>Men's Vault</td>\n",
       "      <td>male</td>\n",
       "      <td>Rio Olympic Arena</td>\n",
       "    </tr>\n",
       "    <tr>\n",
       "      <th>14</th>\n",
       "      <td>770887</td>\n",
       "      <td>gymnastics</td>\n",
       "      <td>rhythmic gymnastics</td>\n",
       "      <td>Group All-Around</td>\n",
       "      <td>female</td>\n",
       "      <td>Rio Olympic Arena</td>\n",
       "    </tr>\n",
       "    <tr>\n",
       "      <th>15</th>\n",
       "      <td>981370</td>\n",
       "      <td>gymnastics</td>\n",
       "      <td>rhythmic gymnastics</td>\n",
       "      <td>Individual All-Around</td>\n",
       "      <td>female</td>\n",
       "      <td>Rio Olympic Arena</td>\n",
       "    </tr>\n",
       "    <tr>\n",
       "      <th>16</th>\n",
       "      <td>588395</td>\n",
       "      <td>gymnastics</td>\n",
       "      <td>trampoline gymnastics</td>\n",
       "      <td>Women</td>\n",
       "      <td>female</td>\n",
       "      <td>Rio Olympic Arena</td>\n",
       "    </tr>\n",
       "    <tr>\n",
       "      <th>17</th>\n",
       "      <td>673301</td>\n",
       "      <td>gymnastics</td>\n",
       "      <td>trampoline gymnastics</td>\n",
       "      <td>Men</td>\n",
       "      <td>male</td>\n",
       "      <td>Rio Olympic Arena</td>\n",
       "    </tr>\n",
       "  </tbody>\n",
       "</table>\n",
       "</div>"
      ],
      "text/plain": [
       "        id       sport             discipline                           name  \\\n",
       "0   148864  gymnastics    artistic gymnastics           Women's Balance Beam   \n",
       "1   816897  gymnastics    artistic gymnastics         Women's Floor Exercise   \n",
       "2   884887  gymnastics    artistic gymnastics  Women's Individual All-Around   \n",
       "3   866079  gymnastics    artistic gymnastics                   Women's Team   \n",
       "4   259226  gymnastics    artistic gymnastics            Women's Uneven Bars   \n",
       "5    14799  gymnastics    artistic gymnastics                  Women's Vault   \n",
       "6   762301  gymnastics    artistic gymnastics           Men's Floor Exercise   \n",
       "7   716295  gymnastics    artistic gymnastics           Men's Horizontal Bar   \n",
       "8   818747  gymnastics    artistic gymnastics    Men's Individual All-Around   \n",
       "9   120863  gymnastics    artistic gymnastics            Men's Parallel Bars   \n",
       "10   68030  gymnastics    artistic gymnastics             Men's Pommel Horse   \n",
       "11  856285  gymnastics    artistic gymnastics                    Men's Rings   \n",
       "12  823595  gymnastics    artistic gymnastics                     Men's Team   \n",
       "13  876371  gymnastics    artistic gymnastics                    Men's Vault   \n",
       "14  770887  gymnastics    rhythmic gymnastics               Group All-Around   \n",
       "15  981370  gymnastics    rhythmic gymnastics          Individual All-Around   \n",
       "16  588395  gymnastics  trampoline gymnastics                          Women   \n",
       "17  673301  gymnastics  trampoline gymnastics                            Men   \n",
       "\n",
       "       sex             venues  \n",
       "0   female  Rio Olympic Arena  \n",
       "1   female  Rio Olympic Arena  \n",
       "2   female  Rio Olympic Arena  \n",
       "3   female  Rio Olympic Arena  \n",
       "4   female  Rio Olympic Arena  \n",
       "5   female  Rio Olympic Arena  \n",
       "6     male  Rio Olympic Arena  \n",
       "7     male  Rio Olympic Arena  \n",
       "8     male  Rio Olympic Arena  \n",
       "9     male  Rio Olympic Arena  \n",
       "10    male  Rio Olympic Arena  \n",
       "11    male  Rio Olympic Arena  \n",
       "12    male  Rio Olympic Arena  \n",
       "13    male  Rio Olympic Arena  \n",
       "14  female  Rio Olympic Arena  \n",
       "15  female  Rio Olympic Arena  \n",
       "16  female  Rio Olympic Arena  \n",
       "17    male  Rio Olympic Arena  "
      ]
     },
     "execution_count": 34,
     "metadata": {},
     "output_type": "execute_result"
    }
   ],
   "source": [
    "gym_data = data[data[\"sport\"]==\"gymnastics\"].reset_index(drop=True)\n",
    "gym_data"
   ]
  },
  {
   "cell_type": "code",
   "execution_count": 35,
   "metadata": {},
   "outputs": [
    {
     "data": {
      "text/plain": [
       "array(['artistic gymnastics', 'rhythmic gymnastics',\n",
       "       'trampoline gymnastics'], dtype=object)"
      ]
     },
     "execution_count": 35,
     "metadata": {},
     "output_type": "execute_result"
    }
   ],
   "source": [
    "gym_data.discipline.unique()"
   ]
  },
  {
   "cell_type": "code",
   "execution_count": 36,
   "metadata": {},
   "outputs": [
    {
     "data": {
      "text/plain": [
       "artistic gymnastics      14\n",
       "rhythmic gymnastics       2\n",
       "trampoline gymnastics     2\n",
       "Name: discipline, dtype: int64"
      ]
     },
     "execution_count": 36,
     "metadata": {},
     "output_type": "execute_result"
    }
   ],
   "source": [
    "# COUNTS\n",
    "gym_data.discipline.value_counts()"
   ]
  },
  {
   "cell_type": "code",
   "execution_count": 50,
   "metadata": {},
   "outputs": [
    {
     "data": {
      "image/png": "[encoded data removed]",
      "text/plain": [
       "<Figure size 1152x360 with 2 Axes>"
      ]
     },
     "metadata": {
      "needs_background": "light"
     },
     "output_type": "display_data"
    }
   ],
   "source": [
    "# VISUALS\n",
    "fig= plt.figure(figsize= (16,5))\n",
    "\n",
    "fig.add_subplot(1,3,1)\n",
    "sns.countplot(y = gym_data.discipline)\n",
    "#plt.yticks(np.arange(0,23,2))\n",
    "plt.title(\"GYMNASTICS DISCIPLINES BAR PLOT\")\n",
    "\n",
    "fig.add_subplot(1,3,2)\n",
    "plt.pie(gym_data.discipline.value_counts(), labels= gym_data.discipline.value_counts().index, autopct= '%1.2f%%', startangle= 320)\n",
    "plt.title('GYMNASTICS DISCIPLINES PIE CHART', fontsize= 13)\n",
    "\n",
    "plt.show()"
   ]
  }
 ],
 "metadata": {
  "kernelspec": {
   "display_name": "Python 3",
   "language": "python",
   "name": "python3"
  },
  "language_info": {
   "codemirror_mode": {
    "name": "ipython",
    "version": 3
   },
   "file_extension": ".py",
   "mimetype": "text/x-python",
   "name": "python",
   "nbconvert_exporter": "python",
   "pygments_lexer": "ipython3",
   "version": "3.7.0"
  }
 },
 "nbformat": 4,
 "nbformat_minor": 2
}
